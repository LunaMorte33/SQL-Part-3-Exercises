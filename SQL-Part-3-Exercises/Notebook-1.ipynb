{
    "metadata": {
        "kernelspec": {
            "name": "SQL",
            "display_name": "SQL",
            "language": "sql"
        },
        "language_info": {
            "name": "sql",
            "version": ""
        },
        "extensions": {
            "azuredatastudio": {
                "version": 1,
                "views": []
            }
        }
    },
    "nbformat_minor": 2,
    "nbformat": 4,
    "cells": [
        {
            "cell_type": "markdown",
            "source": [
                "# SQL Part 3 Exercises Joins\n",
                "\n",
                "This notebook works with the BooksDB dataset.  \n",
                "\n",
                "**Questions 1-4** focus on how joins work in a more general sense.  If you are not sure how to best answer the questions, try manipulating the queries by changing the order of joins, the length of the TOP, or how they are ordered.  \n",
                "\n",
                "> <span style=\"background-color: rgba(127, 127, 127, 0.1);\"><i>Note</i>: If some of the queries are not returning quickly, you can try closing and restarting azure data studio after a few minutes.</span>\n",
                "\n",
                "In **questions 5-8**, you will be asked to join tables to find results about titles, tags, and the books users want to read.\n",
                "\n",
                "As you go through the questions, you will see 'Minimum Desired Output'.  This will provide you with the bare minimum columns needed to answer the questions.  When you write the queries, add as many additional columns as you need to best find your answers."
            ],
            "metadata": {
                "azdata_cell_guid": "db9534a9-c8a7-4c09-8180-bcba0690bb02"
            },
            "attachments": {}
        },
        {
            "cell_type": "markdown",
            "source": [
                "## **QUESTION 1:**  Exploring a LEFT JOIN using the **books** and **to\\_read** tables\n",
                "\n",
                "The code block below has been commented out. To answer this question, you will need to uncomment it by removing the **/\\*** (line 1) and **\\*/** (line 16).\n",
                "\n",
                "**Part A:** Look at Query 1, which table is the 'Left' table and which is the 'Right'?\n",
                "\n",
                "> Your Answer: B is left and tr is right\n",
                "\n",
                "**Part B:** Using table 2, answer the following questions: \n",
                "\n",
                "- When we added a  '**WHERE tr.user\\_id IS NOT NULL'** clause (line 14), how did the table change?  Why?\n",
                "\n",
                "> Your Answer: table doesn't include null values."
            ],
            "metadata": {
                "azdata_cell_guid": "660be568-9a70-40ff-a2fa-a78e31e87b6f"
            },
            "attachments": {}
        },
        {
            "cell_type": "code",
            "source": [
                "\n",
                "-- Query 1: LEFT JOIN \n",
                "SELECT TOP 50 b.title, b.average_rating, b.books_count,tr.user_id, tr.book_id\n",
                "FROM BooksDB.dbo.books AS b\n",
                "LEFT JOIN BooksDB.dbo.to_read AS tr\n",
                "ON b.best_book_id = tr.book_id\n",
                "ORDER BY b.average_rating;\n",
                "\n",
                "-- Query 2: LEFT JOIN USING 'IS NOT NULL'\n",
                "SELECT TOP 50 b.title, b.average_rating, b.books_count,tr.user_id, tr.book_id\n",
                "FROM BooksDB.dbo.books AS b\n",
                "LEFT JOIN BooksDB.dbo.to_read AS tr\n",
                "ON b.best_book_id = tr.book_id\n",
                "WHERE tr.user_id IS NOT NULL\n",
                "ORDER BY b.average_rating;\n",
                ""
            ],
            "metadata": {
                "azdata_cell_guid": "25dcd34c-5e5d-4393-9da0-a4c0effb6455",
                "tags": [],
                "language": "sql"
            },
            "outputs": [
                {
                    "output_type": "error",
                    "evalue": "Query failed: The operation was canceled.",
                    "ename": "",
                    "traceback": []
                },
                {
                    "output_type": "display_data",
                    "data": {
                        "text/html": "Query was canceled by user"
                    },
                    "metadata": {}
                },
                {
                    "output_type": "display_data",
                    "data": {
                        "text/html": "Total execution time: 00:02:28.861"
                    },
                    "metadata": {}
                }
            ],
            "execution_count": 1
        },
        {
            "cell_type": "markdown",
            "source": [
                "## **QUESTION 2:** Exploring **RIGHT** joins with the **books** and **to\\_read** tables\n",
                "\n",
                "You will need to uncomment the Query to answer the question.\n",
                "\n",
                "**Part A:** Looking at the query, which table is the 'Left' and which is the 'Right'?\n",
                "\n",
                "> Your Answer: b is right and tr is left\n",
                "\n",
                "**Part B:** How do the RIGHT-joined tables differ from the LEFT-joined tables in Question 1?  \n",
                "\n",
                "> Your Answer: the Right-joined tables has more null values."
            ],
            "metadata": {
                "azdata_cell_guid": "c1e417d9-89d2-4a7d-ab46-b43c8bddc54f"
            },
            "attachments": {}
        },
        {
            "cell_type": "code",
            "source": [
                "/*\n",
                "-- Query 1: RIGHT JOIN\n",
                "SELECT TOP 300 b.title, b.average_rating, b.books_count, tr.user_id, tr.book_id\n",
                "FROM BooksDB.dbo.books AS b\n",
                "RIGHT JOIN BooksDB.dbo.to_read AS tr\n",
                "ON b.best_book_id = tr.book_id;\n",
                "*/"
            ],
            "metadata": {
                "azdata_cell_guid": "8cf020b8-2a76-46a6-acff-97eb1acc7fed",
                "tags": [],
                "language": "sql"
            },
            "outputs": [
                {
                    "output_type": "display_data",
                    "data": {
                        "text/html": "Commands completed successfully."
                    },
                    "metadata": {}
                },
                {
                    "output_type": "display_data",
                    "data": {
                        "text/html": "Total execution time: 00:00:00.078"
                    },
                    "metadata": {}
                }
            ],
            "execution_count": 24
        },
        {
            "cell_type": "markdown",
            "source": [
                "## **QUESTION 3:** Exploring FULL JOINS with the **books** and **to\\_read** tables\n",
                "\n",
                "You will need to uncomment the Query to answer the question.\n",
                "\n",
                "**Part A:**  Look at the table and explore how it was populated.  Try manipulating the query to better understand how this table works.  Try adding a WHERE clause, or ORDER BY a column on the **books** table.  Based on your exploration, can you think of when you might want a FULL join rather than a LEFT, RIGHT, or INNER?\n",
                "\n",
                "> Your Answer:"
            ],
            "metadata": {
                "azdata_cell_guid": "8f6b8f22-3e5a-4b87-a2f2-07279f1deb94"
            },
            "attachments": {}
        },
        {
            "cell_type": "code",
            "source": [
                "\n",
                "-- FULL JOIN\n",
                "SELECT TOP 30 b.title, b.average_rating, b.books_count,tr.user_id, tr.book_id\n",
                "FROM BooksDB.dbo.books AS b\n",
                "FULL JOIN BooksDB.dbo.to_read AS tr\n",
                "ON b.book_id = tr.book_id;\n",
                ""
            ],
            "metadata": {
                "azdata_cell_guid": "7c2a3dff-ef55-4222-aef0-7c0ab4f942eb",
                "tags": [],
                "language": "sql"
            },
            "outputs": [
                {
                    "output_type": "error",
                    "evalue": "Query failed: The operation was canceled.",
                    "ename": "",
                    "traceback": []
                },
                {
                    "output_type": "display_data",
                    "data": {
                        "text/html": "Query was canceled by user"
                    },
                    "metadata": {}
                },
                {
                    "output_type": "display_data",
                    "data": {
                        "text/html": "Total execution time: 00:01:15.725"
                    },
                    "metadata": {}
                }
            ],
            "execution_count": 2
        },
        {
            "cell_type": "markdown",
            "source": [
                "## **QUESTION 4:** Exploring INNER Joins with the **books** and **to\\_read** tables\n",
                "\n",
                "You will need to uncomment the Query to answer the question.\n",
                "\n",
                "**Part A:**  What does an inner join do?\n",
                "\n",
                "> <span style=\"background-color: rgba(127, 127, 127, 0.1); font-family: -apple-system, BlinkMacSystemFont, sans-serif;\">Your Answer:&nbsp; &nbsp; An inner join takes only the columns that match from both tables</span>\n",
                "> \n",
                ">  <span style=\"color: rgba(232, 230, 227, 0.87); font-family: -apple-system, BlinkMacSystemFont, sans-serif; background-color: rgba(96, 104, 108, 0.1);\">&nbsp;An inner join takes only the columns that match from both tables</span> <span style=\"color: rgba(232, 230, 227, 0.87); font-family: -apple-system, BlinkMacSystemFont, sans-serif; background-color: rgba(96, 104, 108, 0.1);\">&nbsp;An inner join takes only the columns that match from both tables</span>\n",
                "\n",
                "<span style=\"background-color: rgba(127, 127, 127, 0.1); font-family: -apple-system, BlinkMacSystemFont, sans-serif;\"><b>Part B:</b>&nbsp;Currently this table has an <b>'IS NOT NULL'</b> in the <b>WHERE</b> clause.&nbsp; Is this necessary for this table?&nbsp; Why or Why not?&nbsp;</span> \n",
                "\n",
                "> Your Answer: it is not necessary because the inner join only joins columns that match which results in no nulls.\n",
                "\n",
                "**Part C:**  When using SQL, you are usually returning much larger tables so every line of code will add to the compilation and return time.  Rewrite this inner join query so that it contains no redundant code.   \n",
                "\n",
                "> Your Answer:  Update the query in the code box below."
            ],
            "metadata": {
                "azdata_cell_guid": "4dab11ce-7995-4444-92dd-4cb2c0bc02c8"
            },
            "attachments": {}
        },
        {
            "cell_type": "code",
            "source": [
                "\n",
                "-- INNER JOIN\n",
                "SELECT TOP 30 b.title, b.average_rating, b.books_count,tr.user_id, tr.book_id\n",
                "FROM BooksDB.dbo.books AS b\n",
                "INNER JOIN BooksDB.dbo.to_read AS tr\n",
                "ON b.book_id = tr.book_id\n",
                "ORDER BY tr.book_id;\n",
                ""
            ],
            "metadata": {
                "azdata_cell_guid": "66d430ab-18aa-4a29-a32d-0585445e417c",
                "tags": [],
                "language": "sql"
            },
            "outputs": [],
            "execution_count": 3
        },
        {
            "cell_type": "markdown",
            "source": [
                "## **QUESTION 5:**  Using joins to find the most tagged book and the most popular tag\n",
                "\n",
                "We will be writing 3 queries to find both the most tagged book and that book's most popular tag.\n",
                "\n",
                "**Part A:**  What is the most tagged book?\n",
                "\n",
                "> <span style=\"background-color: rgba(127, 127, 127, 0.1); font-family: -apple-system, BlinkMacSystemFont, sans-serif;\">Start by joining the </span> **books** <span style=\"background-color: rgba(127, 127, 127, 0.1); font-family: -apple-system, BlinkMacSystemFont, sans-serif;\">and </span> **book\\_tags** <span style=\"background-color: rgba(127, 127, 127, 0.1); font-family: -apple-system, BlinkMacSystemFont, sans-serif;\">&nbsp;tables ON the books.best_book_id and book_tags.goodreads_book_id.&nbsp;&nbsp;<br></span> <span style=\"background-color: rgba(127, 127, 127, 0.1); font-family: -apple-system, BlinkMacSystemFont, sans-serif;\">We want the <i>most popular</i> book, so think about ordering the table in a way that will display both the book title and the number of times a book tag has been used.</span>\n",
                "> \n",
                "> _MInimum Desired output:_  The title of the most tagged book, and the number of times the book has been tagged.\n",
                "> \n",
                "> **Title:**\n",
                "\n",
                "**Part B:** How many different tags have been used for the most tagged book?\n",
                "\n",
                "> <span style=\"font-family: -apple-system, BlinkMacSystemFont, sans-serif; background-color: rgba(127, 127, 127, 0.1);\">Start by joining the&nbsp;</span> **books** <span style=\"font-family: -apple-system, BlinkMacSystemFont, sans-serif; background-color: rgba(127, 127, 127, 0.1);\">and&nbsp;</span> **book\\_tags** <span style=\"font-family: -apple-system, BlinkMacSystemFont, sans-serif; background-color: rgba(127, 127, 127, 0.1);\">&nbsp;tables ON the books.best_book_id and book_tags.goodreads_book_id.&nbsp;&nbsp;<br></span> We want to find the _most popular_ tag id, so think about ordering in a way that will display the most popular tag id.\n",
                "> \n",
                "> <span style=\"font-family: -apple-system, BlinkMacSystemFont, sans-serif; background-color: rgba(127, 127, 127, 0.1);\"><i>Minimum Desired Output:</i> The tag id for the most popular tag used for the most tagged book.&nbsp;</span> \n",
                "> \n",
                "> <span style=\"font-family: -apple-system, BlinkMacSystemFont, sans-serif; background-color: rgba(127, 127, 127, 0.1);\"><b>Tag Id:</b></span>\n",
                "\n",
                "<span style=\"font-family: -apple-system, BlinkMacSystemFont, sans-serif; background-color: rgba(127, 127, 127, 0.1);\"><b>Part C: </b>What is this particular tag?</span>\n",
                "\n",
                "> You may return this answer with a simple query.\n",
                "\n",
                "> <span style=\"font-family: -apple-system, BlinkMacSystemFont, sans-serif; background-color: rgba(127, 127, 127, 0.1);\"><i>Minimum Desired Output:</i>&nbsp;The tag name for the most popular tag used for the most tagged book.&nbsp;</span> \n",
                "> \n",
                "> <span style=\"font-family: -apple-system, BlinkMacSystemFont, sans-serif; background-color: rgba(127, 127, 127, 0.1);\"><b>Tag Name:</b></span>"
            ],
            "metadata": {
                "azdata_cell_guid": "a685e9cc-2ae2-40e8-8cc1-022c8064d66d"
            },
            "attachments": {}
        },
        {
            "cell_type": "code",
            "source": [
                "-- Code Here:\r\n",
                "SELECT TOP 20 b.best_book_id, bt.goodreads_book_id, b.title, bt.tag_id, bt.count\r\n",
                "FROM BooksDB.dbo.book_tags AS bt\r\n",
                "LEFT JOIN BooksDB.dbo.books AS b\r\n",
                "ON b.best_book_id=bt.goodreads_book_id\r\n",
                "\r\n",
                "ORDER BY bt.count DESC;"
            ],
            "metadata": {
                "azdata_cell_guid": "de3ac253-6b47-4740-8c6e-5f9d1b0ce36b",
                "language": "sql"
            },
            "outputs": [
                {
                    "output_type": "display_data",
                    "data": {
                        "text/html": "(20 rows affected)"
                    },
                    "metadata": {}
                },
                {
                    "output_type": "display_data",
                    "data": {
                        "text/html": "Total execution time: 00:00:00.672"
                    },
                    "metadata": {}
                },
                {
                    "output_type": "execute_result",
                    "metadata": {},
                    "execution_count": 5,
                    "data": {
                        "application/vnd.dataresource+json": {
                            "schema": {
                                "fields": [
                                    {
                                        "name": "best_book_id"
                                    },
                                    {
                                        "name": "goodreads_book_id"
                                    },
                                    {
                                        "name": "title"
                                    },
                                    {
                                        "name": "tag_id"
                                    },
                                    {
                                        "name": "count"
                                    }
                                ]
                            },
                            "data": [
                                {
                                    "0": "865",
                                    "1": "865",
                                    "2": "The Alchemist",
                                    "3": "30574",
                                    "4": "596234"
                                },
                                {
                                    "0": "2429135",
                                    "1": "2429135",
                                    "2": "The Girl with the Dragon Tattoo (Millennium, #1)",
                                    "3": "30574",
                                    "4": "586235"
                                },
                                {
                                    "0": "18143977",
                                    "1": "18143977",
                                    "2": "All the Light We Cannot See",
                                    "3": "30574",
                                    "4": "505884"
                                },
                                {
                                    "0": "3",
                                    "1": "3",
                                    "2": "Harry Potter and the Sorcerer's Stone (Harry Potter, #1)",
                                    "3": "30574",
                                    "4": "496107"
                                },
                                {
                                    "0": "24280",
                                    "1": "24280",
                                    "2": "Les Misérables",
                                    "3": "30574",
                                    "4": "488469"
                                },
                                {
                                    "0": "11235712",
                                    "1": "11235712",
                                    "2": "Cinder (The Lunar Chronicles, #1)",
                                    "3": "30574",
                                    "4": "474954"
                                },
                                {
                                    "0": "168668",
                                    "1": "168668",
                                    "2": "Catch-22",
                                    "3": "30574",
                                    "4": "465640"
                                },
                                {
                                    "0": "18405",
                                    "1": "18405",
                                    "2": "Gone with the Wind",
                                    "3": "30574",
                                    "4": "454565"
                                },
                                {
                                    "0": "4981",
                                    "1": "4981",
                                    "2": "Slaughterhouse-Five",
                                    "3": "30574",
                                    "4": "443942"
                                },
                                {
                                    "0": "NULL",
                                    "1": "930",
                                    "2": "NULL",
                                    "3": "30574",
                                    "4": "436097"
                                },
                                {
                                    "0": "1953",
                                    "1": "1953",
                                    "2": "A Tale of Two Cities",
                                    "3": "30574",
                                    "4": "402942"
                                },
                                {
                                    "0": "6186357",
                                    "1": "6186357",
                                    "2": "The Maze Runner (Maze Runner, #1)",
                                    "3": "30574",
                                    "4": "380255"
                                },
                                {
                                    "0": "4374400",
                                    "1": "4374400",
                                    "2": "If I Stay (If I Stay, #1)",
                                    "3": "30574",
                                    "4": "378509"
                                },
                                {
                                    "0": "5297",
                                    "1": "5297",
                                    "2": "The Picture of Dorian Gray",
                                    "3": "30574",
                                    "4": "358381"
                                },
                                {
                                    "0": "38447",
                                    "1": "38447",
                                    "2": "The Handmaid's Tale",
                                    "3": "30574",
                                    "4": "348218"
                                },
                                {
                                    "0": "1934",
                                    "1": "1934",
                                    "2": "Little Women (Little Women, #1)",
                                    "3": "30574",
                                    "4": "345105"
                                },
                                {
                                    "0": "9418327",
                                    "1": "9418327",
                                    "2": "Bossypants",
                                    "3": "30574",
                                    "4": "332278"
                                },
                                {
                                    "0": "2612",
                                    "1": "2612",
                                    "2": "The Tipping Point: How Little Things Can Make a Big Difference",
                                    "3": "30574",
                                    "4": "320295"
                                },
                                {
                                    "0": "7937843",
                                    "1": "7937843",
                                    "2": "Room",
                                    "3": "30574",
                                    "4": "302652"
                                },
                                {
                                    "0": "2187",
                                    "1": "2187",
                                    "2": "Middlesex",
                                    "3": "30574",
                                    "4": "299006"
                                }
                            ]
                        },
                        "text/html": [
                            "<table>",
                            "<tr><th>best_book_id</th><th>goodreads_book_id</th><th>title</th><th>tag_id</th><th>count</th></tr>",
                            "<tr><td>865</td><td>865</td><td>The Alchemist</td><td>30574</td><td>596234</td></tr>",
                            "<tr><td>2429135</td><td>2429135</td><td>The Girl with the Dragon Tattoo (Millennium, #1)</td><td>30574</td><td>586235</td></tr>",
                            "<tr><td>18143977</td><td>18143977</td><td>All the Light We Cannot See</td><td>30574</td><td>505884</td></tr>",
                            "<tr><td>3</td><td>3</td><td>Harry Potter and the Sorcerer's Stone (Harry Potter, #1)</td><td>30574</td><td>496107</td></tr>",
                            "<tr><td>24280</td><td>24280</td><td>Les Misérables</td><td>30574</td><td>488469</td></tr>",
                            "<tr><td>11235712</td><td>11235712</td><td>Cinder (The Lunar Chronicles, #1)</td><td>30574</td><td>474954</td></tr>",
                            "<tr><td>168668</td><td>168668</td><td>Catch-22</td><td>30574</td><td>465640</td></tr>",
                            "<tr><td>18405</td><td>18405</td><td>Gone with the Wind</td><td>30574</td><td>454565</td></tr>",
                            "<tr><td>4981</td><td>4981</td><td>Slaughterhouse-Five</td><td>30574</td><td>443942</td></tr>",
                            "<tr><td>NULL</td><td>930</td><td>NULL</td><td>30574</td><td>436097</td></tr>",
                            "<tr><td>1953</td><td>1953</td><td>A Tale of Two Cities</td><td>30574</td><td>402942</td></tr>",
                            "<tr><td>6186357</td><td>6186357</td><td>The Maze Runner (Maze Runner, #1)</td><td>30574</td><td>380255</td></tr>",
                            "<tr><td>4374400</td><td>4374400</td><td>If I Stay (If I Stay, #1)</td><td>30574</td><td>378509</td></tr>",
                            "<tr><td>5297</td><td>5297</td><td>The Picture of Dorian Gray</td><td>30574</td><td>358381</td></tr>",
                            "<tr><td>38447</td><td>38447</td><td>The Handmaid's Tale</td><td>30574</td><td>348218</td></tr>",
                            "<tr><td>1934</td><td>1934</td><td>Little Women (Little Women, #1)</td><td>30574</td><td>345105</td></tr>",
                            "<tr><td>9418327</td><td>9418327</td><td>Bossypants</td><td>30574</td><td>332278</td></tr>",
                            "<tr><td>2612</td><td>2612</td><td>The Tipping Point: How Little Things Can Make a Big Difference</td><td>30574</td><td>320295</td></tr>",
                            "<tr><td>7937843</td><td>7937843</td><td>Room</td><td>30574</td><td>302652</td></tr>",
                            "<tr><td>2187</td><td>2187</td><td>Middlesex</td><td>30574</td><td>299006</td></tr>",
                            "</table>"
                        ]
                    }
                }
            ],
            "execution_count": 5
        },
        {
            "cell_type": "markdown",
            "source": [
                "## **QUESTION 6:** Find a book based on a tag of your choice using joins.\n",
                "\n",
                "Some suggestions: any hobbies you like? baking, drawing, etc. how about favorite holidays, subjects, animals, etc?\n",
                "\n",
                "**Part A:** Explore the tags table for a tag of your choice.  Suggested ideas, try searching for one of your hobbies, a favorite time of year, favorite animal, etc.  Start by querying the tag table for your chosen tag.  (_Hint:_ in order to make sure you find all combinations of your tags, use the wildcard).  If your query returns more than one result, pick your favorite.\n",
                "\n",
                "> > _Here is an example.  Alyce wanted to search for halloween books.  She used the wildcard, '%halloween%' and 8 different combinations were found.  Alyce selected '**halloween-storytime**', with a tag id of 13877._\n",
                "\n",
                "> _Minimum Desired Output:_ <span style=\"font-family: -apple-system, BlinkMacSystemFont, sans-serif; background-color: rgba(127, 127, 127, 0.1);\">tag name and tag id</span>\n",
                "\n",
                "> **Your Tag and Tag Id:**\n",
                "\n",
                "**Part B:** Now that you have the **tag id**, find the title that was tagged the most with this tag by joining the books and books\\_tags tables.\n",
                "\n",
                "> > _Alyce joined the book table with the tags table and discovered that <u>The Little Old Lady Who Was Not Afraid of Anything</u> was tagged as '**halloween-storytime**' the most._\n",
                "\n",
                "> _Minimum Desired Output:_ <span style=\"background-color: rgba(127, 127, 127, 0.1); font-family: -apple-system, BlinkMacSystemFont, sans-serif;\">title and tag count</span>\n",
                "\n",
                "> **Your Title and Number of times the tag was used:**"
            ],
            "metadata": {
                "azdata_cell_guid": "df783e7e-3aff-4e63-9edb-f2e729c7d1c8"
            },
            "attachments": {}
        },
        {
            "cell_type": "code",
            "source": [
                "-- Code Here:\r\n",
                "SELECT TOP 20 *\r\n",
                "FROM BooksDB.dbo.tags\r\n",
                "WHERE tag_name LIKE '%halloween%'"
            ],
            "metadata": {
                "azdata_cell_guid": "c4b0b67c-7cfa-4f52-be97-ffe5cc28ed54",
                "tags": [],
                "language": "sql"
            },
            "outputs": [
{
    "output_type": "display_data",
    "data": {
        "text/html": "(8 rows affected)"
    },
    "metadata": {}
}, {
    "output_type": "display_data",
    "data": {
        "text/html": "Total execution time: 00:00:00.104"
    },
    "metadata": {}
}, {
    "output_type": "execute_result",
    "metadata": {},
    "execution_count": 6,
    "data": {
        "application/vnd.dataresource+json": {
            "schema": {
                "fields": [
                    {
                        "name": "tag_id"
                    },
                    {
                        "name": "tag_name"
                    }
                ]
            },
            "data": [
                {
                    "0": "13873",
                    "1": "halloween"
                },
                {
                    "0": "13874",
                    "1": "halloween-books"
                },
                {
                    "0": "13875",
                    "1": "halloween-reading"
                },
                {
                    "0": "13876",
                    "1": "halloween-reads"
                },
                {
                    "0": "13877",
                    "1": "halloween-storytime"
                },
                {
                    "0": "14698",
                    "1": "holiday-halloween"
                },
                {
                    "0": "14706",
                    "1": "holidays-halloween"
                },
                {
                    "0": "28416",
                    "1": "spooky-reads-for-halloween"
                }
            ]
        },
        "text/html": [
            "<table>",
            "<tr><th>tag_id</th><th>tag_name</th></tr>",
            "<tr><td>13873</td><td>halloween</td></tr>",
            "<tr><td>13874</td><td>halloween-books</td></tr>",
            "<tr><td>13875</td><td>halloween-reading</td></tr>",
            "<tr><td>13876</td><td>halloween-reads</td></tr>",
            "<tr><td>13877</td><td>halloween-storytime</td></tr>",
            "<tr><td>14698</td><td>holiday-halloween</td></tr>",
            "<tr><td>14706</td><td>holidays-halloween</td></tr>",
            "<tr><td>28416</td><td>spooky-reads-for-halloween</td></tr>",
            "</table>"
        ]
    }
}
],
            "execution_count": 6
        },
        {
            "cell_type": "markdown",
            "source": [
                "## **QUESTION 7:** What are the top 10 most popular book titles on the 'to read' list?\n",
                "\n",
                "**Part A:**  Explore how the **to\\_read** and **books** tables are organized, and then join them.  What will you use as a key?\n",
                "\n",
                "> Your Answer:\n",
                "\n",
                "**Part B:** Organize your newly joined table in a way that groups popularity based on the title based on users.\n",
                "\n",
                "> _Hint:_ Suggest using an alias for the aggregation you will need to run on the **user\\_id**\n",
                "\n",
                "> _Minimum Desired Output:_ title and aliased column"
            ],
            "metadata": {
                "azdata_cell_guid": "4e5349b7-24f6-481a-9d88-bb4f86abc624"
            },
            "attachments": {}
        },
        {
            "cell_type": "code",
            "source": [
                "-- Code Here:"
            ],
            "metadata": {
                "azdata_cell_guid": "8af25df1-ce61-4152-8198-0b53c17642d0",
                "language": "sql"
            },
            "outputs": [
                {
                    "output_type": "display_data",
                    "data": {
                        "text/html": "Commands completed successfully."
                    },
                    "metadata": {}
                },
                {
                    "output_type": "display_data",
                    "data": {
                        "text/html": "Total execution time: 00:00:00.057"
                    },
                    "metadata": {}
                }
            ],
            "execution_count": 29
        },
        {
            "cell_type": "markdown",
            "source": [
                "## **QUESTION 8:** Largest 'To Read' Lists\n",
                "\n",
                "**Part A:**  Create a query that returns a table that contains the top 10 users with the most number of titles on their 'to read' list.    Group all the entries by user\\_id.  \n",
                "\n",
                "> _Hint:_ You might want an alias for the titles.\n",
                "> \n",
                "> _Minimum Desired Output:_  user\\_id and your aliased column of titles.\n",
                "\n",
                "**Part B:**  The longest list length is 15 titles total, and is shared by 4 different users.  Select one of the uses and print out their entire '**to read**' list."
            ],
            "metadata": {
                "azdata_cell_guid": "0b0090b0-2b28-44c6-8bb6-06b4c03c3ff1"
            },
            "attachments": {}
        },
        {
            "cell_type": "code",
            "source": [
                "-- Code Here:"
            ],
            "metadata": {
                "azdata_cell_guid": "c6c815f8-890d-4163-be63-3d300e320597",
                "tags": [],
                "language": "sql"
            },
            "outputs": [
                {
                    "output_type": "display_data",
                    "data": {
                        "text/html": "Commands completed successfully."
                    },
                    "metadata": {}
                },
                {
                    "output_type": "display_data",
                    "data": {
                        "text/html": "Total execution time: 00:00:00.055"
                    },
                    "metadata": {}
                }
            ],
            "execution_count": 30
        }
    ]
}